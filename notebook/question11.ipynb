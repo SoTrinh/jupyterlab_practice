{
 "cells": [
  {
   "cell_type": "markdown",
   "id": "8d1b4db5-5a7f-4232-bba6-88bf9c98a7c0",
   "metadata": {},
   "source": [
    "# Son Trinh\n",
    "Notebook for assignment 7"
   ]
  },
  {
   "cell_type": "code",
   "execution_count": 1,
   "id": "980d4d1d-cc48-4190-be5c-e1f7aadbb8e9",
   "metadata": {},
   "outputs": [
    {
     "name": "stdout",
     "output_type": "stream",
     "text": [
      "5.0\n"
     ]
    }
   ],
   "source": [
    "def compute_mean(list):\n",
    "    result = sum(list)/len(list)\n",
    "    return result\n",
    "    \n",
    "print(compute_mean([2,4,6,8]))"
   ]
  },
  {
   "cell_type": "markdown",
   "id": "7d873555-88c6-4ce3-bc47-810602fddfde",
   "metadata": {},
   "source": [
    "## Formula explaination\n",
    "$$\n",
    "\\bar{x} = \\frac{x_1 + x_2 + ... + x_n}{n} = \\frac{1}{n}\\left(\\sum_{i=1}^{n} x_i\\right)\n",
    "$$"
   ]
  }
 ],
 "metadata": {
  "kernelspec": {
   "display_name": "Python [conda env:practice_evn]",
   "language": "python",
   "name": "conda-env-practice_evn-py"
  },
  "language_info": {
   "codemirror_mode": {
    "name": "ipython",
    "version": 3
   },
   "file_extension": ".py",
   "mimetype": "text/x-python",
   "name": "python",
   "nbconvert_exporter": "python",
   "pygments_lexer": "ipython3",
   "version": "3.12.4"
  }
 },
 "nbformat": 4,
 "nbformat_minor": 5
}
